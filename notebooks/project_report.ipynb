{
 "cells": [
  {
   "cell_type": "markdown",
   "metadata": {},
   "source": [
    " <h2>\n",
    " <strong> WELCOME TO GREEN CHEMISTRY : The smart algorithm to help scientists select greener solvents and reactants to minimize environemental impact ! </strong>\n",
    " </h2>\n",
    "\n",
    "\n",
    "\n",
    "\n"
   ]
  }
 ],
 "metadata": {
  "language_info": {
   "name": "python"
  }
 },
 "nbformat": 4,
 "nbformat_minor": 2
}
