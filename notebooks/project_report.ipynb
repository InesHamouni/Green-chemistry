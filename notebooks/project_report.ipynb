{
 "cells": [
  {
   "cell_type": "markdown",
   "metadata": {},
   "source": [
    "<h1 align=\"center\">\n",
    "<strong> 🌿 WELCOME TO GREEN CHEMISTRY ! \n",
    "Computational tools for designing sustainable reactions</strong>\n",
    "</h1>\n",
    "\n",
    "## Introduction\n",
    "\n",
    "Environmental protection is one of the main challenges facing our society. Reducing our ecological footprint is essential at every level: from individual behavior to large-scale industrial processes, which remain major contributors to pollution. In this context, our project focuses on coupling reactions, which are widely used in pharmaceutical and materials chemistry, to evaluate their sustainability and explore greener alternatives.\n",
    "\n",
    "Therefore, the purpose of this project is to develop a smart and effective algorithm to help scientists select greener solvents, catalyzers and reactants to minimize environemental impact ! \n",
    "It **evaluates**, **visualizes**, and **improves** the chemical reactions' sustainability, based on the principles of green chemistry. \n",
    "\n",
    "\n",
    "\n",
    "\n",
    "📁 **Repository**: [Green-chemistry](https://github.com/InesHamouni/Green-chemistry)  \n",
    "📓 **Notebook**: `notebooks/project_report.ipynb`  \n",
    "💬 **Language**: Python 3.x\n",
    "\n",
    "---\n",
    "\n",
    "## 🧪 Motivation\n",
    "\n",
    "Green chemistry is the science of designing chemical products and processes that **reduce or eliminate the use and generation of hazardous substances**. Traditional synthesis routes can be energy-intensive, toxic, and wasteful. In this project, we use **computational analysis** to:\n",
    "\n",
    "- Quantify how \"green\" a given reaction is.\n",
    "- Identify reaction inefficiencies.\n",
    "- Suggest improvements through solvent and catalyst optimization.\n",
    "\n",
    "We are inspired by the 12 Principles of Green Chemistry (Anastas & Warner) and strive to make those measurable with code.\n",
    "\n",
    "---\n",
    "\n",
    "## 📦 Setup & Installation\n",
    "\n",
    "You can install all required packages using pip:\n",
    "\n",
    "```bash\n",
    "pip install -r requirements.txt\n",
    "\n",
    "\n",
    "\n"
   ]
  }
 ],
 "metadata": {
  "language_info": {
   "name": "python"
  }
 },
 "nbformat": 4,
 "nbformat_minor": 2
}
