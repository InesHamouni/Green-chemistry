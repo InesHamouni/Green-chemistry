{
 "cells": [
  {
   "cell_type": "markdown",
   "metadata": {},
   "source": [
    "<h1 align=\"center\">\n",
    "<strong> 🌿 WELCOME TO GREEN CHEMISTRY ! \n",
    "Computational tools for designing sustainable reactions</strong>\n",
    "</h1>\n",
    "\n",
    "## Introduction\n",
    "\n",
    "Environmental protection is one of the main challenges facing our society. Reducing our ecological footprint is essential at every level: from individual behavior to large-scale industrial processes, which remain major contributors to pollution. In this context, our project focuses on coupling reactions, which are widely used in pharmaceutical and materials chemistry, to evaluate their sustainability and explore greener alternatives.\n",
    "\n",
    "Therefore, the purpose of this project is to develop a smart and effective algorithm to help scientists select greener solvents, catalyzers and reactants to minimize environemental impact ! \n",
    "It **evaluates**, **visualizes**, and **improves** the chemical reactions' sustainability, based on the principles of green chemistry. \n",
    "\n",
    "--> !!! axe coupling mais en sois c'est pour tout!!!\n",
    "\n",
    "\n",
    "📁 **Repository**: [Green-chemistry](https://github.com/InesHamouni/Green-chemistry)  \n",
    "📓 **Notebook**: `notebooks/project_report.ipynb`  \n",
    "💬 **Language**: Python \n",
    "\n",
    "---\n",
    "\n",
    "## 🧪 Motivation\n",
    "\n",
    "Green chemistry is the science of designing chemical products and processes that **reduce or eliminate the use and generation of hazardous substances**. Traditional synthesis routes can be energy-intensive, toxic, and wasteful. In this project, we use **computational analysis** to:\n",
    "\n",
    "- Quantify how \"green\" a given reaction is.\n",
    "- Identify reaction inefficiencies.\n",
    "- Suggest improvements through solvent and catalyst optimization.\n",
    "\n",
    "We are inspired by the 12 Principles of Green Chemistry (Anastas & Warner) and strive to make those measurable with code.\n",
    "\n",
    "---\n",
    "\n",
    "\n",
    "\n",
    "\n"
   ]
  },
  {
   "cell_type": "markdown",
   "metadata": {},
   "source": [
    "\n",
    "## 📦 Setup & Installation\n",
    "\n",
    "To install the conda environment green_env containing Python and all the necessary packages for this project, follow these steps:\n",
    "1. Clone the GitHub repository (if you haven't already)\n",
    "2. Create the conda environment from the env.yml file\n",
    "3. Activate the environment\n",
    "\n",
    "The environment includes all required dependencies (e.g., streamlit, pandas, numpy, jupyter, etc.)  \n",
    "You can now run your notebooks, Python scripts, or Streamlit apps."
   ]
  },
  {
   "cell_type": "markdown",
   "metadata": {},
   "source": [
    "```bash\n",
    "git clone https://github.com/InesHamouni/Green-chemistry.git\n",
    "cd Green-chemistry\n",
    "conda env create -f environment.yml\n",
    "conda activate green_env"
   ]
  },
  {
   "cell_type": "markdown",
   "metadata": {},
   "source": [
    "Moreover, APIs or HTTP requests can be tested using the **REST Client** extension for Visual Studio Code. Install it from the Extensions tab, then create a file with a .http or .rest extension, write your HTTP request, and click the Send Request button to execute it.\n",
    "\n",
    "---"
   ]
  },
  {
   "cell_type": "markdown",
   "metadata": {},
   "source": [
    "## ⚙️ Functions "
   ]
  },
  {
   "cell_type": "markdown",
   "metadata": {},
   "source": [
    "### Interface \n",
    "\n",
    "This function is at the heart of our project, as it brings together all the other functions. Specifically, it acts as an interface where all information relating to the chemical reaction is gathered and stored. In particular, it evaluates the atom economy and environmental impact of the metals used as catalysts, displays relevant pictograms and suggests possible alternatives.\n",
    "\n",
    "**✅ Function Steps**\n",
    "\n",
    "**Data Retrieval**  \n",
    "Reads the lists of:  \n",
    "- reactants (compounds)  \n",
    "- products  \n",
    "- catalysts (catalyzers)  \n",
    "from `st.session_state`, where data from the PubChem API is stored.\n",
    "\n",
    "**Input Validation**  \n",
    "If no reactants or products are present, an error message is shown and the analysis stops.\n",
    "\n",
    "**Molar Mass Extraction**  \n",
    "Retrieves the molar masses of the reactants to calculate atom economy.  \n",
    "Uses the molar mass of the first product as the main product.\n",
    "\n",
    "**Atom Economy Calculation**  \n",
    "Uses the `atom_economy()` function to evaluate the efficiency of the reaction in terms of atom economy, returning a value and an interpretation (good, average, poor, etc.).\n",
    "\n",
    "**Catalyst Analysis**  \n",
    "For each catalyst, applies the `get_metal_impact()` function which assesses:  \n",
    "- human health toxicity  \n",
    "- environmental impact  \n",
    "- metal availability  \n",
    "\n",
    "**Return Results**  \n",
    "If successful, returns a dictionary containing:  \n",
    "- atom economy  \n",
    "- catalyst metal analysis  \n",
    "\n",
    "Otherwise, an error message is displayed.\n",
    "\n",
    "\n",
    "\n",
    "**🧠 Purpose**\n",
    "\n",
    "This function centralizes scientific analyses based on green chemistry principles, making it easier to evaluate key criteria related to the sustainability of chemical reactions.\n",
    "\n"
   ]
  },
  {
   "cell_type": "markdown",
   "metadata": {},
   "source": [
    "A more detailed explanation of each interface function is given below. "
   ]
  },
  {
   "cell_type": "markdown",
   "metadata": {},
   "source": [
    "\n",
    "\n",
    "### Atom Economy \n",
    "\n",
    "This function calculate the atom economy (or atomic yield) of a chemical recation, which indicates the efficiency and sustainability of a reaction.  \n",
    "\n",
    "But what exactly is atom economy? 🤔 \n",
    "\n",
    "It measures how efficiently the reactants are converted into the desired product. Atom Economy corresponds to the second principle of Green Chemistry, which is a core metric for evaluating how \"green\" a chemical reaction is. \n",
    " \n",
    "The used formula is the following one : \n"
   ]
  },
  {
   "cell_type": "markdown",
   "metadata": {},
   "source": [
    "$$\n",
    "\\text{Atom Economy (\\%)} = \\left( \\frac{\\text{Molar Mass of Desired Product}}{\\sum \\text{Molar Masses of Reactants}} \\right) \\times 100\n",
    "$$\n"
   ]
  },
  {
   "cell_type": "markdown",
   "metadata": {},
   "source": [
    "Higher the percentage better is the chemical reaction and less waste it generates. Therefore, your reaction is greener when the atom economy percentage is higher. 'Greener' refers to a environmentally frienly reaction, in other words, a reaction that minimizes its environemental impact and ressource use. \n",
    "\n",
    "**Verdict scale:**\n",
    "- ✅ > 80% → **Good** (efficient, green reaction)\n",
    "- ⚠️ 50–80% → **Acceptable** (moderate efficiency)\n",
    "- ❌ < 50% → **Poor** (wasteful and less sustainable)\n",
    "\n",
    "\n",
    "The implemented function takes as input the molar masses of the desired product and the reactants, then calculates the atom economy using the formula shown above.    \n",
    "\n",
    "In our function, the following terminology is used :  \n",
    "product_mass : the molar mass (en g/mol) of the main product.  \n",
    "reactant_masses : molar mass (en g/mol) of each used reactants.  "
   ]
  },
  {
   "cell_type": "markdown",
   "metadata": {},
   "source": [
    "### Energy Efficiency \n",
    "\n",
    "Energy efficiency is the 6th principle of Green Chemistry and is related to the minimization of energy consumption in chemical reactions. Energy can take several different forms, the one treated in this project : temperature and pressure. \n",
    "\n",
    "\n",
    "#### Pressure\n",
    "\n",
    "Lower pressure means less energy is required to maintain reaction conditions, making the process more environmentally friendly and sustainable.  \n",
    "\n",
    "How does it work? 🔍  \n",
    "\n",
    "The function takes as input the pressure of the reaction applied during the chemical reaction (in bar).\n",
    "\n",
    "\n",
    "OUTPUT :  \n",
    "Low energy consumption if pressure < 5 bar  \n",
    "Moderate energy consumption if pressure is between 5 and 30 bar  \n",
    "High energy consumption if pressure is 30 bar or more  \n",
    "\n",
    "Considering that the atmospheric pressure is approximately 1 bar (to be precise 1.01325 bar)\n",
    "\n",
    "\n",
    "\n",
    "#### Temperature \n",
    "\n",
    "The lower the reaction temperature, the less energy is consumed, which is better for the environment.\n",
    "\n",
    "How does it work? 🔍\n",
    "\n",
    "The function takes as input the temperature of the reaction (in °C). Then, it makes a qualitative evaluation of the energy consumption based on this input temperature. \n",
    "\n",
    "\n",
    "OUTPUT :  \n",
    "< 100°C: low energy consumption  \n",
    "between 100°C and 200°C: moderate energy consumption  \n",
    "≥ 200°C: high energy consumption  \n",
    "\n",
    "Considering that room temperature is approximately 25°C. \n",
    "\n"
   ]
  },
  {
   "cell_type": "markdown",
   "metadata": {},
   "source": [
    "### Metal Center \n",
    "\n",
    "This function analyse the toxicity of the catalyst, focusing specifically on the metal center of the catalyst since including the ligand would require a much more detailed and complicated analysis.\n",
    "It is based on the 9th principle of Green Chemistry, which recommends scientists to use less toxic catalysts and also advocates for catalysts rather than stoichiometric reagents that may generate toxic waste.  \n",
    "\n",
    "Therefore, the function analysis the toxicity of the most used catalyst metal center since some metals are more toxic, rare or difficult to extract, which can pose ecological and economic problems.\n",
    "The project is mainly focus on environment, however human health is also important. Therefore, this function provides information on the compound’s toxicity to humans as well.\n",
    "\n",
    "How does it work? 🔍 \n",
    "\n",
    "As an input the fucntion takes the chemical symbol that represents the metal, for instance \"Pd\" for palladium. The output is a short and clear resume of the following information: \n",
    "- Human toxicity \n",
    "- Environmental impact (such as persistence in the environment, bioaccumulation and toxicity)\n",
    "- Availability of the metal (classified as abundant, moderate, rare or expensive)\n",
    "\n",
    "\n",
    "If the metal supplied does not appear in the database, the function returns a message indicating that no data is available for this metal.\n",
    "\n",
    "\n",
    "**EXAMPLE**"
   ]
  },
  {
   "cell_type": "markdown",
   "metadata": {},
   "source": [
    "```python print(get_metal_impact(\"Pd\")) ```"
   ]
  },
  {
   "cell_type": "markdown",
   "metadata": {},
   "source": [
    "OUTPUT :   \n",
    "\n",
    "--- Palladium (Pd) ---   \n",
    "Human toxicity : Moderate, may cause allergic skin and respiratory reactions.  \n",
    "Environmental impact : Moderate, potential bioaccumulation in the aquatic environment.   \n",
    "Availability : Rare "
   ]
  },
  {
   "cell_type": "markdown",
   "metadata": {},
   "source": [
    "\n",
    "\n"
   ]
  },
  {
   "cell_type": "markdown",
   "metadata": {},
   "source": [
    "### Alternative\n",
    "\n",
    "--"
   ]
  },
  {
   "cell_type": "markdown",
   "metadata": {},
   "source": [
    "## ⚡ Real-World Application Example \n",
    "\n",
    "---"
   ]
  },
  {
   "cell_type": "markdown",
   "metadata": {},
   "source": [
    "## Limitations\n",
    "\n",
    "### Interface \n",
    "\n",
    "il faut prendre le nom precis de la moleucule sur pubchem (dessiner la molecule sur chemdraw, prendre le nom et mettre dans pubchem pour avoir le vrais nom, si non ca marche pas )\n",
    "\n",
    "### Energy efficiency \n",
    "We could have take electricity ... but hard to define depending in which country you are performing your reaction and which materials, are they old and energivore or new and really attentive the their energy consumption. Therefore, if we want to do a more precise analysis we should take a very precise case with the knowledge on the materials energy consumption ... \n",
    "\n",
    "Moreover one thin that coul have been interesting to analyse is the cost of the chemical reaction but here again so much parameters to take into considerations, for a specific lab ... it could have been done \n",
    "\n",
    "---"
   ]
  },
  {
   "cell_type": "markdown",
   "metadata": {},
   "source": [
    "## Conclusion "
   ]
  }
 ],
 "metadata": {
  "kernelspec": {
   "display_name": "base",
   "language": "python",
   "name": "python3"
  },
  "language_info": {
   "codemirror_mode": {
    "name": "ipython",
    "version": 3
   },
   "file_extension": ".py",
   "mimetype": "text/x-python",
   "name": "python",
   "nbconvert_exporter": "python",
   "pygments_lexer": "ipython3",
   "version": "3.12.7"
  }
 },
 "nbformat": 4,
 "nbformat_minor": 2
}
