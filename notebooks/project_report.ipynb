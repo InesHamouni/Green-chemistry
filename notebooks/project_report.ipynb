{
 "cells": [
  {
   "cell_type": "markdown",
   "metadata": {},
   "source": [
    "<h1 align=\"center\">\n",
    "<strong> 🌿 WELCOME TO GREEN CHEMISTRY ! \n",
    "Computational tools for designing sustainable reactions</strong>\n",
    "</h1>\n",
    "\n",
    "## Introduction\n",
    "\n",
    "Climate change and pollution are the major challenges of our time, and represent a real threats for both the environment and human health. Slowing down ecological damage is essential and requires public awarness about environmental consequences of human behavior. More broadly, informed people is crucial to drive significant change. Hence, this project was created to help scientists (or users in general) better understand, and above all be aware of the environmental impact of their products. More precisely, the project evaluates chemical reaction sustainability in order to encourage users to explore greener alternatives. The computational analysis primarily focus on coupling reaction since their are widely used in pharmaceutical an materials chemistry (two of the most polluting industries), although our algorithm can be applied to other types of reactions. Coupling reactions involved metals, solvents, and sometimes extreme conditions, therefore they are ideal real world application to highlight the importance of assessing the environmental impact of our reactions. \n",
    "\n",
    "\n",
    "The purpose of this project is to develop a smart and effective algorithm that enables scientists to swiftly evaluate needed changes and select greener solvents, catalysts, and reactants, thereby minimizing environmental impact !   \n",
    "It **evaluates** and **improves** the chemical reactions' sustainability, based on the 12 principles of Green Chemistry. \n",
    "\n",
    "\n",
    "📁 **Repository**: [Green-chemistry](https://github.com/InesHamouni/Green-chemistry)  \n",
    "📓 **Notebook**: `notebooks/project_report.ipynb`  \n",
    "💬 **Language**: Python   \n",
    "\n",
    "\n",
    "**🛠️ Technologies Used**\n",
    "- Streamlit : for user interface and interactivity\n",
    "- PubChem API : to fetch chemical properties and safety data\n",
    "- Custom functions : for green chemistry metrics (such as atom economy, energy efficiency)\n",
    "\n",
    "---\n",
    "\n",
    "## 🧪 Motivation\n",
    "\n",
    "Green chemistry is a **computational analysis** that highlights **the use and generation of hazardous substances** and **the energy consumption** because the planet's resources must also be preserved. The planet must be protected from destruction (toxic compounds) but also from over-consumption (relative energy).   \n",
    "The assesment is based on : \n",
    "\n",
    "- Quantifying how \"green\" a given reaction is.\n",
    "- Identifying reaction inefficiencies.\n",
    "- Encouraging reassessment of substance use.\n",
    "\n",
    "\n",
    "---\n",
    "\n",
    "\n",
    "\n",
    "\n"
   ]
  },
  {
   "cell_type": "markdown",
   "metadata": {},
   "source": [
    "\n",
    "## 📦 Setup & Installation\n",
    "\n",
    "To install the conda environment green_env containing Python and all the necessary packages for this project, follow these steps:\n",
    "1. Clone the GitHub repository (if you haven't already)\n",
    "2. Create the conda environment from the env.yml file\n",
    "3. Activate the environment  \n",
    "\n",
    "The command are display below"
   ]
  },
  {
   "cell_type": "markdown",
   "metadata": {},
   "source": [
    "```\n",
    "git clone https://github.com/InesHamouni/Green-chemistry.git\n",
    "cd Green-chemistry\n",
    "conda env create -f env.yml\n",
    "conda activate green_env\n",
    "```"
   ]
  },
  {
   "cell_type": "markdown",
   "metadata": {},
   "source": [
    "The environment includes all required dependencies (e.g., streamlit, pandas, numpy, jupyter, etc.)  \n",
    "You can now run your notebooks, Python scripts, or Streamlit interface.  \n",
    "\n",
    "Moreover, APIs or HTTP requests can be tested using the **REST Client** extension for Visual Studio Code. Install it from the Extensions tab, then create a file with a .http or .rest extension, write your HTTP request, and click the Send Request button to execute it.\n",
    "\n",
    "---"
   ]
  },
  {
   "cell_type": "markdown",
   "metadata": {},
   "source": [
    "## ⚙️ Functions "
   ]
  },
  {
   "cell_type": "markdown",
   "metadata": {},
   "source": [
    "## Interface \n",
    "\n",
    "This function is at the heart of our project, as it brings together all the other functions. Specifically, it acts as an interactive Streamlit interface where all information relating to the chemical reaction is gathered and stored. It assesses the environmental impact by calculating the atomic economy, evaluating temperature and pressure conditions, analyzing the toxicity of the metal center of the catalyst, and displaying relevant pictograms along with potential alternatives.  \n",
    "To use this interface, make sure you are inside the `green_chemistry` virtual environment and located in the correct directory."
   ]
  },
  {
   "cell_type": "markdown",
   "metadata": {},
   "source": [
    "\n",
    "```\n",
    "cd src/green_chemistry\n",
    "streamlit run script_interface.py\n",
    "```"
   ]
  },
  {
   "cell_type": "markdown",
   "metadata": {},
   "source": [
    "\n",
    "#### 🤔 How does the streamlit interface works ?\n",
    "\n",
    "\n",
    "#### 📥 Data Retrieval   \n",
    "Enters the lists of:  \n",
    "- Reageants (compounds)  \n",
    "- Solvents (Auxiliaires)\n",
    "- Products  \n",
    "- Catalysts (Metal centers)    \n",
    "\n",
    "**➡️ NOTE:** To validate your entry, the add button must be clicked on. \n",
    "\n",
    "Chemical information extracted from the PubChem API (e.g. molecular weight, formula) is stored in `st.session_state` to ensure that it remains accessible throughout the analysis process.\n",
    "\n",
    "#### ✅ Input Validation\n",
    "\n",
    "If no reactants or products are present, an `error` message is shown and the analysis stops. \n",
    "\n",
    "**➡️ NOTE:** For some chemical compounds, you must use the exact IUPAC name as it appears in PubChem when entering them in the Streamlit interface to ensure accurate data retrieval.  \n",
    "\n",
    "#### 🌡️ Reaction conditions\n",
    "Chemical reaction conditions can be set using the slider available in the Streamlit interface : \n",
    "- Temperature (form -100°C to 300°C)\n",
    "- Pressure (from 0 to 50 bar)  \n",
    "\n",
    "If no specific conditions are provided, the reaction will proceed under standard conditions: atmospheric pressure (1 bar) and room temperature (25 °C).\n",
    "\n",
    "\n",
    "#### 📊 ANALYSIS OUTPUT\n",
    "\n",
    "#### 🧮 Atom Economy Calculation \n",
    "Retrieves the molar masses of the reactants and uses the molar mass of the first listed product as the main product. The `atom_economy()` function is then applied to assess the reaction’s efficiency in terms of atom economy, returning both a numerical value and a qualitative verdict (e.g., good, average, poor).\n",
    "\n",
    "####  🧲 Catalyst Metal Analysis \n",
    "For each catalyst, applies the `get_metal_impact()` function (in the `metal_center.py` script) which assesses:  \n",
    "- human health toxicity  \n",
    "- environmental impact  \n",
    "- metal availability  \n",
    "\n",
    "#### ⚡ Energy Efficiency\n",
    "Evaluation of the temperature and pressure conditions using the `temperature_efficiency()` and `pressure_efficiency` fucntions. \n",
    "\n",
    "#### ⚠️ Hazard Pictograms\n",
    "For each compound (reactants, products, solvents, catalysts), the algorithm:\n",
    "- Fetches hazard information (especially GHS classifications) from PubChem, withe the `get_hazard_from_pugview_data(compound_name: str)` in the `picto.py` script.\n",
    "- Extracts the unique image URLs of hazard pictograms from the hazard data returned by `get_hazard_from_pugview_data(compound_name: str)`, with the `extract_pictogram_urls(hazard_data: list)` function in the `picto.py` script.\n",
    "- Displays interface on the Streamlit interface with the `render_svg(urls: list)` in the `convert_pictograms.py` script.\n",
    "\n",
    "\n",
    "#### 🧠 Purpose\n",
    "\n",
    "This function centralizes scientific analyses based on green chemistry principles, making it easier to evaluate key criteria related to the sustainability of chemical reactions.\n",
    "\n",
    "\n"
   ]
  },
  {
   "cell_type": "markdown",
   "metadata": {},
   "source": [
    "**A more detailed explanation of each interface function is given below.** "
   ]
  },
  {
   "cell_type": "markdown",
   "metadata": {},
   "source": [
    "\n",
    "## 🧮 Atom Economy \n",
    "\n",
    "This function calculate the atom economy (or atomic yield) of a chemical recation, which indicates the efficiency and sustainability of a reaction.  \n",
    "\n",
    "**🤔 But what exactly is atom economy?**  \n",
    "\n",
    "It measures how efficiently the reactants are converted into the desired product. Atom Economy corresponds to the **second principle of Green Chemistry**, which is a core metric for evaluating how \"green\" a chemical reaction is. \n",
    " \n",
    "The used formula is the following one : \n"
   ]
  },
  {
   "cell_type": "markdown",
   "metadata": {},
   "source": [
    "$$\n",
    "\\text{Atom Economy (\\%)} = \\left( \\frac{\\text{Molar Mass of Desired Product}}{\\sum \\text{Molar Masses of Reactants}} \\right) \\times 100\n",
    "$$\n"
   ]
  },
  {
   "cell_type": "markdown",
   "metadata": {},
   "source": [
    "Higher the percentage better is the chemical reaction and less waste it generates. Therefore, your reaction is greener when the atom economy percentage is higher. 'Greener' refers to a environmentally frienly reaction, in other words, a reaction that minimizes its environemental impact and ressource use. \n",
    "\n",
    "**How does it work? 🔍** \n",
    "\n",
    "The implemented function takes as input the molar masses of the desired product and the reactants, then calculates the atom economy using the formula shown above.\n",
    "\n",
    "**Verdict scale (OUTPUT):**\n",
    "- ✅ > 80% → **Good** (efficient, green reaction)\n",
    "- ⚠️ 50–80% → **Acceptable** (moderate efficiency)\n",
    "- ❌ < 50% → **Poor** (wasteful and less sustainable)\n",
    "    \n",
    "\n",
    "In our function, the following terminology is used :  \n",
    "product_mass : the molar mass (en g/mol) of the main product.  \n",
    "reactant_masses : molar mass (en g/mol) of each used reactants.  "
   ]
  },
  {
   "cell_type": "markdown",
   "metadata": {},
   "source": [
    "## ⚡ Energy Efficiency \n",
    "\n",
    "Energy efficiency is the **6th principle of Green Chemistry** and is related to the minimization of energy consumption in chemical reactions. Energy can take several different forms, the one treated in this project are temperature and pressure. \n",
    "\n",
    "\n",
    "#### 💨 Pressure\n",
    "\n",
    "Lower pressure means less energy is required to maintain reaction conditions, making the process more environmentally friendly and sustainable.  \n",
    "\n",
    "**How does it work? 🔍**  \n",
    "\n",
    "The function takes as input the pressure of the reaction applied during the chemical reaction (in bar).\n",
    "\n",
    "\n",
    "**OUTPUT:**  \n",
    "Low energy consumption if pressure < 5 bar  \n",
    "Moderate energy consumption if pressure is between 5 and 30 bar  \n",
    "High energy consumption if pressure is 30 bar or more  \n",
    "\n",
    "Considering that the atmospheric pressure is approximately 1 bar (to be precise 1.01325 bar)\n",
    "\n",
    "\n",
    "\n",
    "#### 🌡️ Temperature \n",
    "\n",
    "The lower the reaction temperature, the less energy is consumed, which is better for the environment.\n",
    "\n",
    "**How does it work? 🔍**\n",
    "\n",
    "The function takes as input the temperature of the reaction (in °C). Then, it makes a qualitative evaluation of the energy consumption based on this input temperature. \n",
    "\n",
    "\n",
    "**OUTPUT:**  \n",
    "< 100°C: low energy consumption  \n",
    "between 100°C and 200°C: moderate energy consumption  \n",
    "≥ 200°C: high energy consumption  \n",
    "\n",
    "Considering that room temperature is approximately 25°C. \n",
    "\n"
   ]
  },
  {
   "cell_type": "markdown",
   "metadata": {},
   "source": [
    "##  🧲 Metal Center \n",
    "\n",
    "This function analyse the **toxicity** of the catalyst, focusing specifically on the metal center of the catalyst since including the ligand would require a much more detailed and complicated analysis.\n",
    "It is based on the **9th principle of Green Chemistry**, which recommends scientists to use less toxic catalysts and also advocates for catalysts rather than stoichiometric reagents that may generate toxic waste.  \n",
    "\n",
    "Therefore, the function analysis the toxicity of the most used catalyst metal center since some metals are more toxic, rare or difficult to extract, which can pose ecological and economic problems.\n",
    "The project is mainly focus on environment, however human health is also important. Therefore, this function provides information on the compound’s toxicity to humans as well.\n",
    "\n",
    "**How does it work? 🔍** \n",
    "\n",
    "As an input the fucntion takes the chemical symbol that represents the metal, for instance \"Pd\" for palladium. The output is a short and clear resume of the following information: \n",
    "- Human toxicity \n",
    "- Environmental impact (such as persistence in the environment, bioaccumulation and toxicity)\n",
    "- Availability of the metal (classified as abundant, moderate, rare or expensive)\n",
    "\n",
    "\n",
    "If the metal supplied does not appear in the database, the function returns a message indicating that no data is available for this metal.\n",
    "\n",
    "\n",
    "**EXAMPLE**"
   ]
  },
  {
   "cell_type": "markdown",
   "metadata": {},
   "source": [
    "```python print(get_metal_impact(\"Pd\")) ```"
   ]
  },
  {
   "cell_type": "markdown",
   "metadata": {},
   "source": [
    "**OUTPUT:**   \n",
    "\n",
    "--- Palladium (Pd) ---   \n",
    "Human toxicity : Moderate, may cause allergic skin and respiratory reactions.  \n",
    "Environmental impact : Moderate, potential bioaccumulation in the aquatic environment.   \n",
    "Availability : Rare "
   ]
  },
  {
   "cell_type": "markdown",
   "metadata": {},
   "source": [
    "## ⚠️ Pictograms\n",
    "\n",
    "GHS (Globally Harmonized System) hazard pictograms are automatically provided for a given chemical compound using the pubchem public API. Four main functions are used : \n",
    "- `get_hazard_from_pugview_data(compound_name: str)`\n",
    "- `extract_pictogram_urls(hazard_data: json)`\n",
    "- `get_pictos(compound_name: str)`\n",
    "- `render_svg(urls: list)`\n",
    "\n",
    "\n",
    "**The first one, extract the danger classification data from pubchem and the associated GHS pictograms.**\n",
    "1) Search for the compound's CID (PubChem identifier)\n",
    "2) Queries the “Safety and Hazards” section via the PUG View API\n",
    "3) Extraction of hazard pictograms in the form of JSON response\n",
    "\n",
    "**The second function, analyze the first function output and extract the unique URL to present the pictograms in our streamlit interface.**\n",
    "1) Iterates through the `StringWithMarkup` structure to find URLs.\n",
    "2) Collects and deduplicates the pictogram links.\n",
    "\n",
    "**The third one combines the two previous functions into a single workflow and returns a list of hazard pictogram URLs.**\n",
    "1) Extracts hazard data for the given compound name using `get_hazard_from_pugview_data()`.\n",
    "2) If the data is valid (i.e., not empty and no `'Error'` is present), it extracts pictograms using `extract_pictogram_urls()`.\n",
    "3) The extracted pictogram URLs are stored in a list, which is then returned.\n",
    "\n",
    "**The fourth one displays the pictogram in the streamlit interface.**\n",
    "1) Downloads each SVG file using requests.\n",
    "2) Encodes it in base64.\n",
    "3) Embeds it in an HTML <img> tag.\n",
    "4) Uses `st.write(..., unsafe_allow_html=True)` to render the pictogram in the app. \n",
    "\n",
    "\n",
    "#### **OUTPUT**  \n",
    "It returns a list of pictogramms or an `Error` message if the process fails. \n",
    "\n",
    " \n"
   ]
  },
  {
   "cell_type": "markdown",
   "metadata": {},
   "source": [
    "## Yield Prediction \n",
    "\n",
    "---"
   ]
  },
  {
   "cell_type": "markdown",
   "metadata": {},
   "source": [
    "## ⚡ Real-World Application Example \n",
    "\n",
    "Let's take a random chemical reaction : an asymmetric aldol reaction with a titanium catalyst."
   ]
  },
  {
   "cell_type": "markdown",
   "metadata": {},
   "source": [
    "![Aldolique Reaction](Reaction_example.jpg)"
   ]
  },
  {
   "cell_type": "markdown",
   "metadata": {},
   "source": [
    "The reagents are : acetaldehyde + 1-methoxyethenoxy(trimethyl)silane. \n",
    "The product is : methyl 3-hydroxybutanoate. \n",
    "The conditions are : ether, -10 °C, atmospheric pressure(we assume) and Titanium as catalyst.\n",
    "It would also be possible to enter metal ligands as auxiliaries, this has been omitted to simplify the example.\n",
    "\n",
    "The users need to be sure that the molecule names entered in the interface exist in Pubchem. In case of difficulties, it's a good idea to first search for your molecules in Pubchem and then copy and paste the associated name into the interface.\n",
    "\n",
    "Here is what the interface looks like: "
   ]
  },
  {
   "cell_type": "markdown",
   "metadata": {},
   "source": [
    "![Interface_input](input_example.png)"
   ]
  },
  {
   "cell_type": "markdown",
   "metadata": {},
   "source": [
    "Once the compounds have been found in pubchem and the reaction conditions have been entered, it is possible to run the analysis. Here are the outputs: "
   ]
  },
  {
   "cell_type": "markdown",
   "metadata": {},
   "source": [
    "![Interface_output](output_example.jpg)"
   ]
  },
  {
   "cell_type": "markdown",
   "metadata": {},
   "source": [
    "First of all, it is possible to see that the atom economy is not great. Indeed, a TMS group loosing during the reaction. Then, there is the energy efficiency that is pretty good: low temperature and atmospheric pressure. Titanium is a good catalyst in therm of sustainability, it is abundant and as a low toxicity for human and the environnment. By adding the extracted pictograms, it is now possible to obtain an overall estimate of the reaction. So, is this reaction efficient enough in term of atom economy or energy? Are certain compounds/catalysts too toxic and could they be replaced by something else?  This interface allows the users to ask them these questions with a view to producing more sustainable reactions. "
   ]
  },
  {
   "cell_type": "markdown",
   "metadata": {},
   "source": [
    "## 📌 Limitations\n",
    "\n",
    "### Interface \n",
    "\n",
    "The interactive Streamlit interface relies on compound names to query PubChem. For certain chemicals, only the exact IUPAC name is accepted, which may require manual lookup by the user.\n",
    "\n",
    "### Energy efficiency \n",
    "Incorporating electricity consumption in the analysis were considered, but this parameter is difficult to standardize. It varies greatly depending on the country where the reaction is performed and the equipment used, whether it's outdated and energy-intensive or modern and energy-efficient. To accurately assess energy impact, a more precise case study would be needed, with detailed knowledge of the instruments’ energy consumption.\n",
    "\n",
    "Additionally, analyzing the financial cost of the chemical reaction could have been valuable. However, this too depends on numerous factors, including specific lab conditions, chemical suppliers, and regional pricing. A meaningful cost analysis would therefore require focusing on a well-defined experimental setup.\n",
    "\n",
    "### Catalyst analysis \n",
    "The main problem with catalyst analysis is that only metals typical for the coupling reaction are known, so if the users enter a metal that isn't present in the function, they will have no data available. Another problem concerns ligands: sometimes, ligands are “home-made” and do not exist in the Pubchem database. They can therefore not be analyzed.\n",
    "\n",
    "### Machine Learning for alternatives\n",
    "Implementing Machine Learning has revealed hard as the chemical database are not referenced enough... to continue \n",
    "\n",
    "---"
   ]
  },
  {
   "cell_type": "markdown",
   "metadata": {},
   "source": [
    "## 🔚 Conclusion and Openings"
   ]
  },
  {
   "cell_type": "code",
   "execution_count": null,
   "metadata": {},
   "outputs": [],
   "source": []
  }
 ],
 "metadata": {
  "kernelspec": {
   "display_name": "Python 3 (ipykernel)",
   "language": "python",
   "name": "python3"
  },
  "language_info": {
   "codemirror_mode": {
    "name": "ipython",
    "version": 3
   },
   "file_extension": ".py",
   "mimetype": "text/x-python",
   "name": "python",
   "nbconvert_exporter": "python",
   "pygments_lexer": "ipython3",
   "version": "3.9.18"
  }
 },
 "nbformat": 4,
 "nbformat_minor": 4
}
